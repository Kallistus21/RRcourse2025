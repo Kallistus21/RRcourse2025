{
 "cells": [
  {
   "cell_type": "markdown",
   "id": "43ca10c9",
   "metadata": {},
   "source": [
    "---\n",
    "title: \"MR. ROBOT Viewership Report\"\n",
    "author: \"Piotr Bugajski\"\n",
    "output: html_document\n",
    "---"
   ]
  },
  {
   "cell_type": "markdown",
   "id": "755573e1",
   "metadata": {},
   "source": [
    "## 1. Description of *Mr. Robot*\n",
    "\n",
    "*Mr. Robot* is an American television thriller drama series created by Sam Esmail. The show follows Elliot Alderson, a cybersecurity engineer and hacker who suffers from dissociative identity disorder and depression. He is recruited by a mysterious anarchist known as Mr. Robot to join a group of hacktivists. The series explores complex themes like cybersecurity, mental health, and corporate control.\n",
    "\n",
    "I also think it's the most underrated show in history. Not to give any spoilers but the show is one of the very rare cases where the show was thought of from start to finish which, if i remember correctly, was a result of the publisher's decision to give an assurance to the creator, Sam Esmail, that the entire show will be published, no need to worry about getting cancelled/axed.\n",
    "\n",
    "Nowadays a lot of shows live kind of paycheck-to-paycheck, or rather, season-to-season.\n",
    "\n",
    "If a season is good as in it gets a lot of viewership, it will be continued, otherwise it will be cancelled (looking at you goddamn Netflix)\n",
    "\n",
    "It is the most underrated of all underrated gems \n",
    "\n",
    "### 2. Image of the Show\n",
    "\n",
    "![Mr. Robot Logo](https://upload.wikimedia.org/wikipedia/commons/a/a4/MrRobot_Logo.png)\n"
   ]
  },
  {
   "cell_type": "code",
   "execution_count": null,
   "id": "2dbe47b8",
   "metadata": {},
   "outputs": [],
   "source": [
    "import matplotlib.pyplot as plt\n",
    "\n",
    "# Viewership data (in millions) for each season (sadly it's decreasing)\n",
    "seasons = ['Season 1', 'Season 2', 'Season 3', 'Season 4']\n",
    "viewership = [1.75, 1.10, 1.00, 0.80]\n",
    "\n",
    "plt.plot(seasons, viewership, marker='o', linestyle='-', color='b')\n",
    "plt.title(\"Mr Robot's Viewership Over Time (Millions)\")\n",
    "plt.xlabel(\"Season\")\n",
    "plt.ylabel(\"Viewership (Millions)\")\n",
    "plt.grid(True)\n",
    "plt.show()\n",
    "\n",
    "\n",
    "\n",
    "git remote set-url origin git@github.com:Kallistus21/RRcourse2025.git\n",
    "\n",
    "\n",
    "\n",
    "#Viewership for first 5 episodes of season 1 off Mr Robot. \n",
    "#Pretty expected, all shows usually go with this scenario\n",
    "episodes = ['Episode 1', 'Episode 2', 'Episode 3', 'Episode 4', 'Episode 5']\n",
    "episode_viewership = [2.01, 1.95, 1.90, 1.85, 1.80]\n",
    "\n",
    "plt.plot(episodes, episode_viewership, marker='o', linestyle='-', color='r')\n",
    "plt.title(\"Episode-to-Episode Viewership in Season 1\")\n",
    "plt.xlabel(\"Episode\")\n",
    "plt.ylabel(\"Viewership (Millions)\")\n",
    "plt.ylim(1.0, 2.05)\n",
    "plt.grid(True)\n",
    "plt.show()"
   ]
  }
 ],
 "metadata": {
  "kernelspec": {
   "display_name": "Python 3 (ipykernel)",
   "language": "python",
   "name": "python3"
  },
  "language_info": {
   "codemirror_mode": {
    "name": "ipython",
    "version": 3
   },
   "file_extension": ".py",
   "mimetype": "text/x-python",
   "name": "python",
   "nbconvert_exporter": "python",
   "pygments_lexer": "ipython3",
   "version": "3.11.5"
  }
 },
 "nbformat": 4,
 "nbformat_minor": 5
}
